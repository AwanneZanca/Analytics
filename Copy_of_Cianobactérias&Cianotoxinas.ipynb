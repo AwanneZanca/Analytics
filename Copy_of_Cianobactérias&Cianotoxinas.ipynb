{
  "nbformat": 4,
  "nbformat_minor": 0,
  "metadata": {
    "colab": {
      "name": "Copy of Cianobactérias&Cianotoxinas.ipynb",
      "provenance": [],
      "mount_file_id": "https://github.com/AwanneZanca/Analytics/blob/main/Cianobact%C3%A9rias%26Cianotoxinas.ipynb",
      "authorship_tag": "ABX9TyPvNJ7BEJ69N/XU5LoMz78a",
      "include_colab_link": true
    },
    "kernelspec": {
      "name": "python3",
      "display_name": "Python 3"
    },
    "language_info": {
      "name": "python"
    }
  },
  "cells": [
    {
      "cell_type": "markdown",
      "metadata": {
        "id": "view-in-github",
        "colab_type": "text"
      },
      "source": [
        "<a href=\"https://colab.research.google.com/github/AwanneZanca/Analytics/blob/main/Copy_of_Cianobact%C3%A9rias%26Cianotoxinas.ipynb\" target=\"_parent\"><img src=\"https://colab.research.google.com/assets/colab-badge.svg\" alt=\"Open In Colab\"/></a>"
      ]
    },
    {
      "cell_type": "markdown",
      "metadata": {
        "id": "8NfeV51w17z7"
      },
      "source": [
        "# **Vigilância Cianobactérias e Cianotoxinas**\n",
        "\n",
        "\n"
      ]
    },
    {
      "cell_type": "code",
      "metadata": {
        "id": "W5sxsJuHcXXK"
      },
      "source": [
        "import pandas as pd"
      ],
      "execution_count": null,
      "outputs": []
    },
    {
      "cell_type": "code",
      "metadata": {
        "id": "9aPftxpG1kAQ"
      },
      "source": [
        "import matplotlib.pyplot as grp"
      ],
      "execution_count": null,
      "outputs": []
    },
    {
      "cell_type": "code",
      "metadata": {
        "id": "w7z0eUxAoqf_"
      },
      "source": [
        "VCC = pd.read_csv(\"/content/drive/MyDrive/vigilancia_cianobacterias_cianotoxinas.csv\", encoding='ISO-8859-1', sep= ';')"
      ],
      "execution_count": null,
      "outputs": []
    },
    {
      "cell_type": "code",
      "metadata": {
        "colab": {
          "base_uri": "https://localhost:8080/",
          "height": 605
        },
        "id": "GT0oLURe6wUe",
        "outputId": "ddb67d6a-98ed-45d1-f11a-19da9f61d91b"
      },
      "source": [
        "VCC.head ( )"
      ],
      "execution_count": null,
      "outputs": [
        {
          "output_type": "execute_result",
          "data": {
            "text/html": [
              "<div>\n",
              "<style scoped>\n",
              "    .dataframe tbody tr th:only-of-type {\n",
              "        vertical-align: middle;\n",
              "    }\n",
              "\n",
              "    .dataframe tbody tr th {\n",
              "        vertical-align: top;\n",
              "    }\n",
              "\n",
              "    .dataframe thead th {\n",
              "        text-align: right;\n",
              "    }\n",
              "</style>\n",
              "<table border=\"1\" class=\"dataframe\">\n",
              "  <thead>\n",
              "    <tr style=\"text-align: right;\">\n",
              "      <th></th>\n",
              "      <th>Região Geográfica</th>\n",
              "      <th>UF</th>\n",
              "      <th>Regional de Saúde</th>\n",
              "      <th>Município</th>\n",
              "      <th>Código IBGE</th>\n",
              "      <th>Número da amostra</th>\n",
              "      <th>Motivo da Coleta</th>\n",
              "      <th>Tipo da Forma de Abastecimento</th>\n",
              "      <th>Código Forma de Abastecimento</th>\n",
              "      <th>Nome da Forma de Abastecimento</th>\n",
              "      <th>Tipo da Instituição</th>\n",
              "      <th>Sigla Instituição</th>\n",
              "      <th>Nome da Instituição</th>\n",
              "      <th>CNPJ da Instituição</th>\n",
              "      <th>Nome do escritório regional/local</th>\n",
              "      <th>CNPJ do escritório regional/local</th>\n",
              "      <th>Nome da ETA/UTA</th>\n",
              "      <th>Ano</th>\n",
              "      <th>Mês</th>\n",
              "      <th>Data da Coleta</th>\n",
              "      <th>Data do Laudo</th>\n",
              "      <th>Data de Registro no SISAGUA</th>\n",
              "      <th>Procedência da Coleta</th>\n",
              "      <th>Ponto de Coleta</th>\n",
              "      <th>Descrição do Local</th>\n",
              "      <th>Zona</th>\n",
              "      <th>Categoria Área</th>\n",
              "      <th>Área</th>\n",
              "      <th>Tipo do Local</th>\n",
              "      <th>Local</th>\n",
              "      <th>Latitude</th>\n",
              "      <th>Longitude</th>\n",
              "      <th>Grupo</th>\n",
              "      <th>Parâmetro (ciano)</th>\n",
              "      <th>Resultado</th>\n",
              "    </tr>\n",
              "  </thead>\n",
              "  <tbody>\n",
              "    <tr>\n",
              "      <th>0</th>\n",
              "      <td>SUDESTE</td>\n",
              "      <td>MG</td>\n",
              "      <td>POUSO ALEGRE</td>\n",
              "      <td>EXTREMA</td>\n",
              "      <td>312510</td>\n",
              "      <td>31</td>\n",
              "      <td>Rotina</td>\n",
              "      <td>SAA</td>\n",
              "      <td>S312510000001</td>\n",
              "      <td>SISTEMA DE ABASTECIMENTO DE ÁGUA DE EXTREMA</td>\n",
              "      <td>Empresa Estadual</td>\n",
              "      <td>COPASA</td>\n",
              "      <td>COMPANHIA DE SANEAMENTO DE MINAS GERAIS</td>\n",
              "      <td>1,72811E+13</td>\n",
              "      <td>DISTRITO DO VALE DO SAPUCAI</td>\n",
              "      <td>1,72811E+13</td>\n",
              "      <td>NaN</td>\n",
              "      <td>2018</td>\n",
              "      <td>4</td>\n",
              "      <td>2018/04/11 00:00:00.000</td>\n",
              "      <td>2018/04/13 00:00:00.000</td>\n",
              "      <td>2018/05/29 13:09:48.000</td>\n",
              "      <td>SISTEMA DE DISTRIBUIÇÃO</td>\n",
              "      <td>Torneira antes da reservação</td>\n",
              "      <td>RUA LUIZ VALENTINI</td>\n",
              "      <td>Urbana</td>\n",
              "      <td>Bairro</td>\n",
              "      <td>CENTRO</td>\n",
              "      <td>NaN</td>\n",
              "      <td>NaN</td>\n",
              "      <td>NaN</td>\n",
              "      <td>NaN</td>\n",
              "      <td>Cianobactérias</td>\n",
              "      <td>Anabaena sp.</td>\n",
              "      <td>0</td>\n",
              "    </tr>\n",
              "    <tr>\n",
              "      <th>1</th>\n",
              "      <td>SUDESTE</td>\n",
              "      <td>MG</td>\n",
              "      <td>POUSO ALEGRE</td>\n",
              "      <td>EXTREMA</td>\n",
              "      <td>312510</td>\n",
              "      <td>39</td>\n",
              "      <td>Rotina</td>\n",
              "      <td>SAA</td>\n",
              "      <td>S312510000001</td>\n",
              "      <td>SISTEMA DE ABASTECIMENTO DE ÁGUA DE EXTREMA</td>\n",
              "      <td>Empresa Estadual</td>\n",
              "      <td>COPASA</td>\n",
              "      <td>COMPANHIA DE SANEAMENTO DE MINAS GERAIS</td>\n",
              "      <td>1,72811E+13</td>\n",
              "      <td>DISTRITO DO VALE DO SAPUCAI</td>\n",
              "      <td>1,72811E+13</td>\n",
              "      <td>NaN</td>\n",
              "      <td>2018</td>\n",
              "      <td>5</td>\n",
              "      <td>2018/05/16 00:00:00.000</td>\n",
              "      <td>2018/05/18 00:00:00.000</td>\n",
              "      <td>2018/05/29 10:40:25.000</td>\n",
              "      <td>SISTEMA DE DISTRIBUIÇÃO</td>\n",
              "      <td>Torneira antes da reservação</td>\n",
              "      <td>AVENIDA BRASIL</td>\n",
              "      <td>Urbana</td>\n",
              "      <td>Bairro</td>\n",
              "      <td>CENTRO</td>\n",
              "      <td>NaN</td>\n",
              "      <td>NaN</td>\n",
              "      <td>NaN</td>\n",
              "      <td>NaN</td>\n",
              "      <td>Cianobactérias</td>\n",
              "      <td>Anabaena sp.</td>\n",
              "      <td>0</td>\n",
              "    </tr>\n",
              "    <tr>\n",
              "      <th>2</th>\n",
              "      <td>NORDESTE</td>\n",
              "      <td>BA</td>\n",
              "      <td>01 DIRES / SALVADOR / RMS / NUCLEO LESTE</td>\n",
              "      <td>CANDEIAS</td>\n",
              "      <td>290650</td>\n",
              "      <td>1,85101E+11</td>\n",
              "      <td>Rotina</td>\n",
              "      <td>SAA</td>\n",
              "      <td>S290650000002</td>\n",
              "      <td>SISTEMA INTEGRADO DE ABASTECIMENTO DO RECÔNCAVO</td>\n",
              "      <td>Empresa Estadual</td>\n",
              "      <td>EMBASA</td>\n",
              "      <td>EMPRESA BAIANA DE AGUAS E SANEAMENTO SA</td>\n",
              "      <td>1,35047E+13</td>\n",
              "      <td>UMS CANDEIAS</td>\n",
              "      <td>1,35047E+13</td>\n",
              "      <td>PRINCIPAL</td>\n",
              "      <td>2018</td>\n",
              "      <td>8</td>\n",
              "      <td>2018/08/13 00:00:00.000</td>\n",
              "      <td>2018/08/13 00:00:00.000</td>\n",
              "      <td>2018/12/06 16:39:11.000</td>\n",
              "      <td>ESTAÇÃO DE TRATAMENTO DE ÁGUA</td>\n",
              "      <td>Saída de tratamento/pós-desinfecção</td>\n",
              "      <td>NaN</td>\n",
              "      <td>Urbana</td>\n",
              "      <td>Sede de distrito (ou vila)</td>\n",
              "      <td>PASSAGEM DOS TEIXEIRAS</td>\n",
              "      <td>NaN</td>\n",
              "      <td>NaN</td>\n",
              "      <td>NaN</td>\n",
              "      <td>NaN</td>\n",
              "      <td>Cianobactérias</td>\n",
              "      <td>Anabaena sp.</td>\n",
              "      <td>0</td>\n",
              "    </tr>\n",
              "    <tr>\n",
              "      <th>3</th>\n",
              "      <td>NORDESTE</td>\n",
              "      <td>BA</td>\n",
              "      <td>01 DIRES / SALVADOR / RMS / NUCLEO LESTE</td>\n",
              "      <td>SALVADOR</td>\n",
              "      <td>292740</td>\n",
              "      <td>1,72901E+11</td>\n",
              "      <td>Rotina</td>\n",
              "      <td>SAA</td>\n",
              "      <td>S292740000001</td>\n",
              "      <td>SIAA DE SALVADOR</td>\n",
              "      <td>Empresa Estadual</td>\n",
              "      <td>EMBASA</td>\n",
              "      <td>EMPRESA BAIANA DE AGUAS E SANEAMENTO SA</td>\n",
              "      <td>1,35047E+13</td>\n",
              "      <td>UMB UMF UMJ UML SALVADOR</td>\n",
              "      <td>1,35047E+13</td>\n",
              "      <td>ETA VIEIRA DE MELO</td>\n",
              "      <td>2017</td>\n",
              "      <td>7</td>\n",
              "      <td>2017/07/18 00:00:00.000</td>\n",
              "      <td>2017/08/11 00:00:00.000</td>\n",
              "      <td>2017/11/17 15:20:46.000</td>\n",
              "      <td>ESTAÇÃO DE TRATAMENTO DE ÁGUA</td>\n",
              "      <td>Saída de tratamento/pós-desinfecção</td>\n",
              "      <td>PARQUE DA BOLANDEIRA S/N BOCA DO RIO</td>\n",
              "      <td>Urbana</td>\n",
              "      <td>Bairro</td>\n",
              "      <td>BOCA DO RIO</td>\n",
              "      <td>NaN</td>\n",
              "      <td>NaN</td>\n",
              "      <td>NaN</td>\n",
              "      <td>NaN</td>\n",
              "      <td>Cianobactérias</td>\n",
              "      <td>Anabaena sp.</td>\n",
              "      <td>0</td>\n",
              "    </tr>\n",
              "    <tr>\n",
              "      <th>4</th>\n",
              "      <td>NORDESTE</td>\n",
              "      <td>BA</td>\n",
              "      <td>01 DIRES / SALVADOR / RMS / NUCLEO LESTE</td>\n",
              "      <td>CANDEIAS</td>\n",
              "      <td>290650</td>\n",
              "      <td>1191P0/2018</td>\n",
              "      <td>Rotina</td>\n",
              "      <td>SAA</td>\n",
              "      <td>S290650000002</td>\n",
              "      <td>SISTEMA INTEGRADO DE ABASTECIMENTO DO RECÔNCAVO</td>\n",
              "      <td>Empresa Estadual</td>\n",
              "      <td>EMBASA</td>\n",
              "      <td>EMPRESA BAIANA DE AGUAS E SANEAMENTO SA</td>\n",
              "      <td>1,35047E+13</td>\n",
              "      <td>UMS CANDEIAS</td>\n",
              "      <td>1,35047E+13</td>\n",
              "      <td>NaN</td>\n",
              "      <td>2018</td>\n",
              "      <td>2</td>\n",
              "      <td>2018/02/20 00:00:00.000</td>\n",
              "      <td>2018/03/21 00:00:00.000</td>\n",
              "      <td>2019/01/17 15:31:49.000</td>\n",
              "      <td>PONTO DE CAPTAÇÃO(ÁGUA SUPERFICIAL OU SUBTERRÂ...</td>\n",
              "      <td>NaN</td>\n",
              "      <td>PASSAGEM DOS TEIXEIRAS, TORNEIRA ETA, ÁGUA BRUTA</td>\n",
              "      <td>NaN</td>\n",
              "      <td>NaN</td>\n",
              "      <td>NaN</td>\n",
              "      <td>NaN</td>\n",
              "      <td>NaN</td>\n",
              "      <td>NaN</td>\n",
              "      <td>NaN</td>\n",
              "      <td>Cianobactérias</td>\n",
              "      <td>Anabaena sp.</td>\n",
              "      <td>79508</td>\n",
              "    </tr>\n",
              "  </tbody>\n",
              "</table>\n",
              "</div>"
            ],
            "text/plain": [
              "  Região Geográfica  UF  ... Parâmetro (ciano) Resultado\n",
              "0           SUDESTE  MG  ...      Anabaena sp.         0\n",
              "1           SUDESTE  MG  ...      Anabaena sp.         0\n",
              "2          NORDESTE  BA  ...      Anabaena sp.         0\n",
              "3          NORDESTE  BA  ...      Anabaena sp.         0\n",
              "4          NORDESTE  BA  ...      Anabaena sp.     79508\n",
              "\n",
              "[5 rows x 35 columns]"
            ]
          },
          "metadata": {},
          "execution_count": 6
        }
      ]
    },
    {
      "cell_type": "code",
      "metadata": {
        "id": "tZL8d36A7Wkm"
      },
      "source": [
        "Seleção = ['Região Geográfica', 'UF', 'Regional de Saúde', 'Município', \n",
        "        'Número da amostra', 'Motivo da Coleta',\n",
        "       'Nome da Forma de Abastecimento', \n",
        "       'Sigla Instituição', 'Nome da Instituição', 'Ano',\n",
        "       'Mês', 'Procedência da Coleta',\n",
        "       'Ponto de Coleta', 'Descrição do Local', 'Categoria Área',\n",
        "       'Área', 'Tipo do Local', 'Local', 'Grupo',\n",
        "       'Parâmetro (ciano)', 'Resultado']"
      ],
      "execution_count": null,
      "outputs": []
    },
    {
      "cell_type": "code",
      "metadata": {
        "id": "JHbd7N-Q7bjJ"
      },
      "source": [
        "DadosSelecionados = VCC.filter (items=Seleção)"
      ],
      "execution_count": null,
      "outputs": []
    },
    {
      "cell_type": "code",
      "metadata": {
        "colab": {
          "base_uri": "https://localhost:8080/",
          "height": 605
        },
        "id": "_G8PLL6w7dB7",
        "outputId": "961c2fdf-7167-4770-bceb-85366ccee112"
      },
      "source": [
        "DadosSelecionados.head ( )"
      ],
      "execution_count": null,
      "outputs": [
        {
          "output_type": "execute_result",
          "data": {
            "text/html": [
              "<div>\n",
              "<style scoped>\n",
              "    .dataframe tbody tr th:only-of-type {\n",
              "        vertical-align: middle;\n",
              "    }\n",
              "\n",
              "    .dataframe tbody tr th {\n",
              "        vertical-align: top;\n",
              "    }\n",
              "\n",
              "    .dataframe thead th {\n",
              "        text-align: right;\n",
              "    }\n",
              "</style>\n",
              "<table border=\"1\" class=\"dataframe\">\n",
              "  <thead>\n",
              "    <tr style=\"text-align: right;\">\n",
              "      <th></th>\n",
              "      <th>Região Geográfica</th>\n",
              "      <th>UF</th>\n",
              "      <th>Regional de Saúde</th>\n",
              "      <th>Município</th>\n",
              "      <th>Número da amostra</th>\n",
              "      <th>Motivo da Coleta</th>\n",
              "      <th>Nome da Forma de Abastecimento</th>\n",
              "      <th>Sigla Instituição</th>\n",
              "      <th>Nome da Instituição</th>\n",
              "      <th>Ano</th>\n",
              "      <th>Mês</th>\n",
              "      <th>Procedência da Coleta</th>\n",
              "      <th>Ponto de Coleta</th>\n",
              "      <th>Descrição do Local</th>\n",
              "      <th>Categoria Área</th>\n",
              "      <th>Área</th>\n",
              "      <th>Tipo do Local</th>\n",
              "      <th>Local</th>\n",
              "      <th>Grupo</th>\n",
              "      <th>Parâmetro (ciano)</th>\n",
              "      <th>Resultado</th>\n",
              "    </tr>\n",
              "  </thead>\n",
              "  <tbody>\n",
              "    <tr>\n",
              "      <th>0</th>\n",
              "      <td>SUDESTE</td>\n",
              "      <td>MG</td>\n",
              "      <td>POUSO ALEGRE</td>\n",
              "      <td>EXTREMA</td>\n",
              "      <td>31</td>\n",
              "      <td>Rotina</td>\n",
              "      <td>SISTEMA DE ABASTECIMENTO DE ÁGUA DE EXTREMA</td>\n",
              "      <td>COPASA</td>\n",
              "      <td>COMPANHIA DE SANEAMENTO DE MINAS GERAIS</td>\n",
              "      <td>2018</td>\n",
              "      <td>4</td>\n",
              "      <td>SISTEMA DE DISTRIBUIÇÃO</td>\n",
              "      <td>Torneira antes da reservação</td>\n",
              "      <td>RUA LUIZ VALENTINI</td>\n",
              "      <td>Bairro</td>\n",
              "      <td>CENTRO</td>\n",
              "      <td>NaN</td>\n",
              "      <td>NaN</td>\n",
              "      <td>Cianobactérias</td>\n",
              "      <td>Anabaena sp.</td>\n",
              "      <td>0</td>\n",
              "    </tr>\n",
              "    <tr>\n",
              "      <th>1</th>\n",
              "      <td>SUDESTE</td>\n",
              "      <td>MG</td>\n",
              "      <td>POUSO ALEGRE</td>\n",
              "      <td>EXTREMA</td>\n",
              "      <td>39</td>\n",
              "      <td>Rotina</td>\n",
              "      <td>SISTEMA DE ABASTECIMENTO DE ÁGUA DE EXTREMA</td>\n",
              "      <td>COPASA</td>\n",
              "      <td>COMPANHIA DE SANEAMENTO DE MINAS GERAIS</td>\n",
              "      <td>2018</td>\n",
              "      <td>5</td>\n",
              "      <td>SISTEMA DE DISTRIBUIÇÃO</td>\n",
              "      <td>Torneira antes da reservação</td>\n",
              "      <td>AVENIDA BRASIL</td>\n",
              "      <td>Bairro</td>\n",
              "      <td>CENTRO</td>\n",
              "      <td>NaN</td>\n",
              "      <td>NaN</td>\n",
              "      <td>Cianobactérias</td>\n",
              "      <td>Anabaena sp.</td>\n",
              "      <td>0</td>\n",
              "    </tr>\n",
              "    <tr>\n",
              "      <th>2</th>\n",
              "      <td>NORDESTE</td>\n",
              "      <td>BA</td>\n",
              "      <td>01 DIRES / SALVADOR / RMS / NUCLEO LESTE</td>\n",
              "      <td>CANDEIAS</td>\n",
              "      <td>1,85101E+11</td>\n",
              "      <td>Rotina</td>\n",
              "      <td>SISTEMA INTEGRADO DE ABASTECIMENTO DO RECÔNCAVO</td>\n",
              "      <td>EMBASA</td>\n",
              "      <td>EMPRESA BAIANA DE AGUAS E SANEAMENTO SA</td>\n",
              "      <td>2018</td>\n",
              "      <td>8</td>\n",
              "      <td>ESTAÇÃO DE TRATAMENTO DE ÁGUA</td>\n",
              "      <td>Saída de tratamento/pós-desinfecção</td>\n",
              "      <td>NaN</td>\n",
              "      <td>Sede de distrito (ou vila)</td>\n",
              "      <td>PASSAGEM DOS TEIXEIRAS</td>\n",
              "      <td>NaN</td>\n",
              "      <td>NaN</td>\n",
              "      <td>Cianobactérias</td>\n",
              "      <td>Anabaena sp.</td>\n",
              "      <td>0</td>\n",
              "    </tr>\n",
              "    <tr>\n",
              "      <th>3</th>\n",
              "      <td>NORDESTE</td>\n",
              "      <td>BA</td>\n",
              "      <td>01 DIRES / SALVADOR / RMS / NUCLEO LESTE</td>\n",
              "      <td>SALVADOR</td>\n",
              "      <td>1,72901E+11</td>\n",
              "      <td>Rotina</td>\n",
              "      <td>SIAA DE SALVADOR</td>\n",
              "      <td>EMBASA</td>\n",
              "      <td>EMPRESA BAIANA DE AGUAS E SANEAMENTO SA</td>\n",
              "      <td>2017</td>\n",
              "      <td>7</td>\n",
              "      <td>ESTAÇÃO DE TRATAMENTO DE ÁGUA</td>\n",
              "      <td>Saída de tratamento/pós-desinfecção</td>\n",
              "      <td>PARQUE DA BOLANDEIRA S/N BOCA DO RIO</td>\n",
              "      <td>Bairro</td>\n",
              "      <td>BOCA DO RIO</td>\n",
              "      <td>NaN</td>\n",
              "      <td>NaN</td>\n",
              "      <td>Cianobactérias</td>\n",
              "      <td>Anabaena sp.</td>\n",
              "      <td>0</td>\n",
              "    </tr>\n",
              "    <tr>\n",
              "      <th>4</th>\n",
              "      <td>NORDESTE</td>\n",
              "      <td>BA</td>\n",
              "      <td>01 DIRES / SALVADOR / RMS / NUCLEO LESTE</td>\n",
              "      <td>CANDEIAS</td>\n",
              "      <td>1191P0/2018</td>\n",
              "      <td>Rotina</td>\n",
              "      <td>SISTEMA INTEGRADO DE ABASTECIMENTO DO RECÔNCAVO</td>\n",
              "      <td>EMBASA</td>\n",
              "      <td>EMPRESA BAIANA DE AGUAS E SANEAMENTO SA</td>\n",
              "      <td>2018</td>\n",
              "      <td>2</td>\n",
              "      <td>PONTO DE CAPTAÇÃO(ÁGUA SUPERFICIAL OU SUBTERRÂ...</td>\n",
              "      <td>NaN</td>\n",
              "      <td>PASSAGEM DOS TEIXEIRAS, TORNEIRA ETA, ÁGUA BRUTA</td>\n",
              "      <td>NaN</td>\n",
              "      <td>NaN</td>\n",
              "      <td>NaN</td>\n",
              "      <td>NaN</td>\n",
              "      <td>Cianobactérias</td>\n",
              "      <td>Anabaena sp.</td>\n",
              "      <td>79508</td>\n",
              "    </tr>\n",
              "  </tbody>\n",
              "</table>\n",
              "</div>"
            ],
            "text/plain": [
              "  Região Geográfica  UF  ... Parâmetro (ciano) Resultado\n",
              "0           SUDESTE  MG  ...      Anabaena sp.         0\n",
              "1           SUDESTE  MG  ...      Anabaena sp.         0\n",
              "2          NORDESTE  BA  ...      Anabaena sp.         0\n",
              "3          NORDESTE  BA  ...      Anabaena sp.         0\n",
              "4          NORDESTE  BA  ...      Anabaena sp.     79508\n",
              "\n",
              "[5 rows x 21 columns]"
            ]
          },
          "metadata": {},
          "execution_count": 12
        }
      ]
    },
    {
      "cell_type": "markdown",
      "metadata": {
        "id": "7ZHE3-mP_Y2Y"
      },
      "source": [
        "NÚMERO DE VIGILÂNCIAS POR MUNICÍPIO"
      ]
    },
    {
      "cell_type": "code",
      "metadata": {
        "id": "CrSQOuAb7sgK"
      },
      "source": [
        "Coluna_Município = DadosSelecionados ['Município']"
      ],
      "execution_count": null,
      "outputs": []
    },
    {
      "cell_type": "code",
      "metadata": {
        "colab": {
          "base_uri": "https://localhost:8080/"
        },
        "id": "jC1swZfY8rVQ",
        "outputId": "b6fb4f35-5648-4ee1-fc31-d43059e68f02"
      },
      "source": [
        "Coluna_Município.value_counts( ).sort_index( )"
      ],
      "execution_count": null,
      "outputs": [
        {
          "output_type": "execute_result",
          "data": {
            "text/plain": [
              "AGUA PRETA      3\n",
              "ARACU           8\n",
              "ARAPIRACA       3\n",
              "ARARIPE        38\n",
              "ARARIPINA     188\n",
              "             ... \n",
              "TROMBAS       133\n",
              "VENTUROSA      14\n",
              "VERISSIMO       5\n",
              "VICENCIA       13\n",
              "VIRADOURO      20\n",
              "Name: Município, Length: 126, dtype: int64"
            ]
          },
          "metadata": {},
          "execution_count": 21
        }
      ]
    },
    {
      "cell_type": "markdown",
      "metadata": {
        "id": "lnxCZh6-_xcd"
      },
      "source": [
        "OCORRÊNCIA DE CIANOBACTÉRIAS E CIANOTOXINAS"
      ]
    },
    {
      "cell_type": "code",
      "metadata": {
        "id": "2d6P6A-_-PHy"
      },
      "source": [
        "Coluna_Grupo= DadosSelecionados ['Grupo']"
      ],
      "execution_count": null,
      "outputs": []
    },
    {
      "cell_type": "code",
      "metadata": {
        "colab": {
          "base_uri": "https://localhost:8080/"
        },
        "id": "GDG7Kiq_-Z0h",
        "outputId": "646c458f-cf0a-4ac1-9989-c15e8d2520b5"
      },
      "source": [
        "Coluna_Grupo.value_counts( ).sort_index( )"
      ],
      "execution_count": null,
      "outputs": [
        {
          "output_type": "execute_result",
          "data": {
            "text/plain": [
              "Cianobactérias    15922\n",
              "Cianotoxinas       4977\n",
              "Name: Grupo, dtype: int64"
            ]
          },
          "metadata": {},
          "execution_count": 19
        }
      ]
    },
    {
      "cell_type": "code",
      "metadata": {
        "colab": {
          "base_uri": "https://localhost:8080/",
          "height": 294
        },
        "id": "z61kOCw2V0ss",
        "outputId": "3498d866-b2c5-4aed-e3a4-b0fe9735cf46"
      },
      "source": [
        "grupo1 = ['Cianobactérias']\n",
        "grupo2=['Cianotoxinas']\n",
        "grp.title('Cianotoxinas e Cianobacérias x Ocorrência')\n",
        "quantidade1 = [15933]\n",
        "quantidade2  = [4977]\n",
        "grp.barh(grupo1,quantidade1, color ='green')\n",
        "grp.barh(grupo2,quantidade2, color ='blue')\n",
        "grp.xlabel('Ocorrência', fontsize=10)\n",
        "grp.show()"
      ],
      "execution_count": null,
      "outputs": [
        {
          "output_type": "display_data",
          "data": {
            "image/png": "[encoded data removed]",
            "text/plain": [
              "<Figure size 432x288 with 1 Axes>"
            ]
          },
          "metadata": {
            "needs_background": "light"
          }
        }
      ]
    },
    {
      "cell_type": "markdown",
      "metadata": {
        "id": "WBLNzvd8GgPg"
      },
      "source": [
        "QUANTIDADE DE PARÂMETROS\n"
      ]
    },
    {
      "cell_type": "code",
      "metadata": {
        "id": "jhIw7HnUKhr8"
      },
      "source": [
        " Coluna_Parametro = DadosSelecionados ['Parâmetro (ciano)']"
      ],
      "execution_count": null,
      "outputs": []
    },
    {
      "cell_type": "code",
      "metadata": {
        "colab": {
          "base_uri": "https://localhost:8080/"
        },
        "id": "yHTylAAMM7D1",
        "outputId": "7bf68263-f2fc-4145-a2e5-5cf3e7bb9539"
      },
      "source": [
        "Coluna_Parametro.value_counts( ).sort_index( )"
      ],
      "execution_count": null,
      "outputs": [
        {
          "output_type": "execute_result",
          "data": {
            "text/plain": [
              "Anabaena sp.                          1037\n",
              "Anatoxina-a(s) (µg/L)                  308\n",
              "Aphanocapsa sp.                        808\n",
              "Aphanothece sp.                        644\n",
              "Cilindrospermopsinas (µg/L)           1219\n",
              "Cylindrospermopsis sp.                 938\n",
              "Dolichospermum sp.                     652\n",
              "Geitlerinema sp.                      1179\n",
              "Jaaginema sp.                          638\n",
              "Lyngbya sp.                            633\n",
              "Microcystis sp.                        909\n",
              "Miscrocistinas (µg/L)                 1648\n",
              "Outra(s)                               378\n",
              "Outro(s) gênero(s)*                   1592\n",
              "Planktolyngbya sp.                     786\n",
              "Planktothrix sp.                       921\n",
              "Pseudoanabaena sp.                     842\n",
              "Radiocystis sp.                        648\n",
              "Raphidiopsis sp.                      1081\n",
              "Saxitoxinas (µg equivalente STX/L)    1424\n",
              "Sphaeropermopsis sp.                   721\n",
              "Synechococcus sp.                      626\n",
              "Synechocystis sp.                      642\n",
              "Tychonema sp.                          625\n",
              "Name: Parâmetro (ciano), dtype: int64"
            ]
          },
          "metadata": {},
          "execution_count": 24
        }
      ]
    },
    {
      "cell_type": "code",
      "metadata": {
        "colab": {
          "base_uri": "https://localhost:8080/",
          "height": 621
        },
        "id": "eKQVyZwONC8D",
        "outputId": "7dad8f57-56be-4494-cab9-75f22ea5d19a"
      },
      "source": [
        "grupo = ['Anabaena sp.',                         \n",
        "'Anatoxina-a(s) (µg/L) ',                 \n",
        "'Aphanocapsa sp.    ',               \n",
        "'Aphanothece sp.   ',            \n",
        "'Cilindrospermopsinas (µg/L) ',          \n",
        "'Cylindrospermopsis sp.  ',         \n",
        "'Dolichospermum sp.    ',       \n",
        "'Geitlerinema sp. ',   \n",
        "'Jaaginema sp.      ',   \n",
        "'Lyngbya sp.   ', \n",
        "'Microcystis sp.  ',\n",
        "'Miscrocistinas (µg/L) ',\n",
        "'Outra(s)  ',\n",
        "'Outro(s) gênero(s)*  ',\n",
        "'Planktolyngbya sp.',\n",
        "'Planktothrix sp.  ',\n",
        "'Pseudoanabaena sp. ',   \n",
        "'Radiocystis sp.',  \n",
        "'Raphidiopsis sp. ',\n",
        "'Saxitoxinas (µg equivalente STX/L) ',\n",
        "'Sphaeropermopsis sp.',\n",
        "'Synechococcus sp.',\n",
        "'Synechocystis sp.  ',\n",
        "'Tychonema sp.  ']\n",
        "value  = [1037,308,808,644,1219,938,652,1179,638,633,909,1648,378,1592,786,921,842,648,1081,1421,721,626,642,625]\n",
        "grp.title('Parâmetro Ciano x Ocorrência')\n",
        "grp.barh(grupo,value, color='#87CEEB')\n",
        "grp.xlabel('Ocorrência', fontsize=10)\n",
        "grp.ylabel('Parâmetro', fontsize=10)\n",
        "grp.gcf().set_size_inches(10, 10) \n",
        "grp.show()"
      ],
      "execution_count": null,
      "outputs": [
        {
          "output_type": "display_data",
          "data": {
            "image/png": "[encoded data removed]",
            "text/plain": [
              "<Figure size 720x720 with 1 Axes>"
            ]
          },
          "metadata": {
            "needs_background": "light"
          }
        }
      ]
    },
    {
      "cell_type": "markdown",
      "metadata": {
        "id": "TI6PAMRHRn9D"
      },
      "source": [
        "QUANTIDADE DE RESULTADO POR PONTO DE COLETA"
      ]
    },
    {
      "cell_type": "code",
      "metadata": {
        "id": "w6qWiFDZRpQz"
      },
      "source": [
        "Coluna_Ponto = DadosSelecionados ['Ponto de Coleta']"
      ],
      "execution_count": null,
      "outputs": []
    },
    {
      "cell_type": "code",
      "metadata": {
        "colab": {
          "base_uri": "https://localhost:8080/"
        },
        "id": "vs3NcHYYR5hq",
        "outputId": "d54d16df-9a96-4f86-f125-bd98c99955fb"
      },
      "source": [
        "Coluna_Ponto.value_counts( ).sort_index( )"
      ],
      "execution_count": null,
      "outputs": [
        {
          "output_type": "execute_result",
          "data": {
            "text/plain": [
              "Bebedouro                                 1\n",
              "Cavalete/Hidrômetro                    4970\n",
              "Cisterna                                 13\n",
              "Fonte                                    47\n",
              "Reservatório de distribuição           2978\n",
              "Reservatório de água                     33\n",
              "Saída de tratamento/pós-desinfecção    3943\n",
              "Torneira antes da reservação           1088\n",
              "Torneira após a reservação              903\n",
              "Veículo transportador                     9\n",
              "Água pós-filtração/pré-desinfecção     1372\n",
              "Name: Ponto de Coleta, dtype: int64"
            ]
          },
          "metadata": {},
          "execution_count": 96
        }
      ]
    },
    {
      "cell_type": "code",
      "metadata": {
        "colab": {
          "base_uri": "https://localhost:8080/",
          "height": 574
        },
        "id": "gjbSTrCZUzGL",
        "outputId": "50242fcf-b187-4af5-8f90-77a3ba27acdb"
      },
      "source": [
        "grupo = ['Fonte','Cavalete/Hidrômetro', 'Cisterna', 'Reservatório de distribuição',           \n",
        "'Reservatório de água',                 \n",
        "'Saída de tratamento/pós-desinfecção' ,   \n",
        "'Torneira antes da reservação' , 'Bebedouro'  ,        \n",
        "'Torneira após a reservação',              \n",
        "'Veículo transportador'   ,                  \n",
        "'Água pós-filtração/pré-desinfecção']\n",
        "y = ([47, 4970, 13, 2978, 33, 3943, 1088,1, 903, 9, 1372])\n",
        "grp.pie(y, labels = grupo, startangle = 100)\n",
        "grp.gcf().set_size_inches( 10,10) \n",
        "grp.show() \n"
      ],
      "execution_count": null,
      "outputs": [
        {
          "output_type": "display_data",
          "data": {
            "image/png": "[encoded data removed]",
            "text/plain": [
              "<Figure size 720x720 with 1 Axes>"
            ]
          },
          "metadata": {}
        }
      ]
    },
    {
      "cell_type": "markdown",
      "metadata": {
        "id": "tDEp6OpvlLMZ"
      },
      "source": [
        "RESUMOS ESTASTÍSTICOS DO PARÂMETRO CIANO"
      ]
    },
    {
      "cell_type": "code",
      "metadata": {
        "id": "wr9sO-Fnr_IL",
        "outputId": "ddde8b8b-c0d2-4841-b8cf-8e37db1ead2f",
        "colab": {
          "base_uri": "https://localhost:8080/"
        }
      },
      "source": [
        "grupo = ['Anabaena sp.',                         \n",
        "'Anatoxina-a(s) (µg/L) ',                 \n",
        "'Aphanocapsa sp.    ',               \n",
        "'Aphanothece sp.   ',            \n",
        "'Cilindrospermopsinas (µg/L) ',          \n",
        "'Cylindrospermopsis sp.  ',         \n",
        "'Dolichospermum sp.    ',       \n",
        "'Geitlerinema sp. ',   \n",
        "'Jaaginema sp.      ',   \n",
        "'Lyngbya sp.   ', \n",
        "'Microcystis sp.  ',\n",
        "'Miscrocistinas (µg/L) ',\n",
        "'Outra(s)  ',\n",
        "'Outro(s) gênero(s)*  ',\n",
        "'Planktolyngbya sp.',\n",
        "'Planktothrix sp.  ',\n",
        "'Pseudoanabaena sp. ',   \n",
        "'Radiocystis sp.',  \n",
        "'Raphidiopsis sp. ',\n",
        "'Saxitoxinas (µg equivalente STX/L) ',\n",
        "'Sphaeropermopsis sp.',\n",
        "'Synechococcus sp.',\n",
        "'Synechocystis sp.  ',\n",
        "'Tychonema sp.  ']\n",
        "\n",
        "value  = [1037,308,808,644,1219,938,652,1179,638,633,909,1648,378,1592,786,921,842,648,1081,1421,721,626,642,625]\n",
        "\n",
        "\n",
        "df = pd.DataFrame({'Nome':grupo,\n",
        "                   'Quantidade' : value})\n",
        "print(df)"
      ],
      "execution_count": null,
      "outputs": [
        {
          "output_type": "stream",
          "text": [
            "                                   Nome  Quantidade\n",
            "0                          Anabaena sp.        1037\n",
            "1                Anatoxina-a(s) (µg/L)          308\n",
            "2                   Aphanocapsa sp.             808\n",
            "3                    Aphanothece sp.            644\n",
            "4          Cilindrospermopsinas (µg/L)         1219\n",
            "5              Cylindrospermopsis sp.           938\n",
            "6                Dolichospermum sp.             652\n",
            "7                     Geitlerinema sp.         1179\n",
            "8                   Jaaginema sp.               638\n",
            "9                        Lyngbya sp.            633\n",
            "10                    Microcystis sp.           909\n",
            "11               Miscrocistinas (µg/L)         1648\n",
            "12                           Outra(s)           378\n",
            "13                Outro(s) gênero(s)*          1592\n",
            "14                   Planktolyngbya sp.         786\n",
            "15                   Planktothrix sp.           921\n",
            "16                  Pseudoanabaena sp.          842\n",
            "17                      Radiocystis sp.         648\n",
            "18                    Raphidiopsis sp.         1081\n",
            "19  Saxitoxinas (µg equivalente STX/L)         1421\n",
            "20                 Sphaeropermopsis sp.         721\n",
            "21                    Synechococcus sp.         626\n",
            "22                  Synechocystis sp.           642\n",
            "23                      Tychonema sp.           625\n"
          ],
          "name": "stdout"
        }
      ]
    },
    {
      "cell_type": "code",
      "metadata": {
        "id": "SajtC5OlvKl9",
        "outputId": "2ade676f-c868-40d8-cc90-916b2c1df84b",
        "colab": {
          "base_uri": "https://localhost:8080/",
          "height": 202
        }
      },
      "source": [
        "x = df.describe()\n",
        "x.head( )"
      ],
      "execution_count": null,
      "outputs": [
        {
          "output_type": "execute_result",
          "data": {
            "text/html": [
              "<div>\n",
              "<style scoped>\n",
              "    .dataframe tbody tr th:only-of-type {\n",
              "        vertical-align: middle;\n",
              "    }\n",
              "\n",
              "    .dataframe tbody tr th {\n",
              "        vertical-align: top;\n",
              "    }\n",
              "\n",
              "    .dataframe thead th {\n",
              "        text-align: right;\n",
              "    }\n",
              "</style>\n",
              "<table border=\"1\" class=\"dataframe\">\n",
              "  <thead>\n",
              "    <tr style=\"text-align: right;\">\n",
              "      <th></th>\n",
              "      <th>Quantidade</th>\n",
              "    </tr>\n",
              "  </thead>\n",
              "  <tbody>\n",
              "    <tr>\n",
              "      <th>count</th>\n",
              "      <td>24.000000</td>\n",
              "    </tr>\n",
              "    <tr>\n",
              "      <th>mean</th>\n",
              "      <td>870.666667</td>\n",
              "    </tr>\n",
              "    <tr>\n",
              "      <th>std</th>\n",
              "      <td>345.770176</td>\n",
              "    </tr>\n",
              "    <tr>\n",
              "      <th>min</th>\n",
              "      <td>308.000000</td>\n",
              "    </tr>\n",
              "    <tr>\n",
              "      <th>25%</th>\n",
              "      <td>641.000000</td>\n",
              "    </tr>\n",
              "  </tbody>\n",
              "</table>\n",
              "</div>"
            ],
            "text/plain": [
              "       Quantidade\n",
              "count   24.000000\n",
              "mean   870.666667\n",
              "std    345.770176\n",
              "min    308.000000\n",
              "25%    641.000000"
            ]
          },
          "metadata": {},
          "execution_count": 126
        }
      ]
    }
  ]
}